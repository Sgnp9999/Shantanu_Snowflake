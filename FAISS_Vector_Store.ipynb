{
 "cells": [
  {
   "cell_type": "code",
   "execution_count": 1,
   "metadata": {},
   "outputs": [],
   "source": [
    "from langchain.document_loaders import TextLoader\n",
    "loader = TextLoader(\"C:\\\\Users\\\\patil\\\\Downloads\\\\Ramayana The Epic Journey.txt\")\n",
    "documents = loader.load()"
   ]
  },
  {
   "cell_type": "code",
   "execution_count": 2,
   "metadata": {},
   "outputs": [
    {
     "data": {
      "text/plain": [
       "[Document(page_content=\"Title: Ramayana: The Epic Journey of Dharma and Devotion\\n\\nIn the vast tapestry of Indian mythology and literature, the Ramayana stands as one of the most revered and cherished epics. Composed by the sage Valmiki, the Ramayana narrates the divine journey of Lord Rama, the seventh avatar of Lord Vishnu, and his unwavering commitment to righteousness and truth. This timeless epic is not merely a story but a profound spiritual guide, offering profound insights into the principles of dharma (righteousness), devotion, and the eternal battle between good and evil.\\n\\nThe Ramayana begins with the birth of Lord Rama to King Dasharatha and Queen Kaushalya of Ayodhya. Rama, the epitome of virtue and nobility, is beloved by all who encounter him. His life unfolds with divine purpose, leading him to marry Sita, the daughter of King Janaka, in a grand ceremony that unites two noble souls destined to play pivotal roles in the cosmic drama.\\n\\nHowever, the tranquility of Rama's life is shattered when his stepmother, Queen Kaikeyi, influenced by the machinations of her maid Manthara, demands that Rama be exiled to the forest for fourteen years and that her own son, Bharata, be crowned king instead. Despite the injustice he faces, Rama accepts his exile with grace and humility, embodying the principle of duty above personal desires.\\n\\nAccompanied by his devoted wife Sita and loyal brother Lakshmana, Rama embarks on a journey through the wilderness, encountering numerous challenges and adversities along the way. His unwavering commitment to dharma and his exemplary conduct inspire awe and reverence in all who witness his deeds.\\n\\nThe Ramayana is not merely a tale of heroic exploits but a profound exploration of the intricacies of human relationships and the nature of existence itself. The love between Rama and Sita serves as a beacon of devotion and fidelity, transcending the trials they endure and reaffirming the eternal bond between husband and wife.\\n\\nCentral to the narrative is the character of Ravana, the demon king of Lanka, whose lust for power and desire for Sita propel him into conflict with Rama. Despite his formidable strength and intellect, Ravana is ultimately undone by his arrogance and ignorance of the higher truths embodied by Rama.\\n\\nThe climax of the epic unfolds with the great battle between Rama and Ravana, a cosmic confrontation between the forces of good and evil. With the assistance of an army of noble monkeys led by the valiant Hanuman, Rama wages war against the demonic hordes of Lanka, culminating in a climactic showdown that showcases the triumph of righteousness over darkness.\\n\\nThe Ramayana concludes with Rama's triumphant return to Ayodhya, where he is joyously welcomed by his subjects and reunited with his beloved Sita. However, the purity of Sita's character is called into question by the doubts of some of Rama's subjects, leading to her voluntary exile to the forest where she gives birth to their twin sons, Lava and Kusha.\\n\\nUltimately, the Ramayana is not merely a historical account but a timeless allegory that resonates with profound spiritual truths. It teaches us the importance of upholding dharma in the face of adversity, the power of unwavering devotion, and the eternal victory of righteousness over evil.\\n\\nIn the hearts of millions of devotees, the Ramayana remains a sacred scripture, inspiring them to lead lives of integrity, compassion, and devotion. Its teachings continue to illuminate the path of righteousness, guiding humanity towards the realization of the divine within and the ultimate triumph of good over evil.\", metadata={'source': 'C:\\\\Users\\\\patil\\\\Downloads\\\\Ramayana The Epic Journey.txt'})]"
      ]
     },
     "execution_count": 2,
     "metadata": {},
     "output_type": "execute_result"
    }
   ],
   "source": [
    "documents"
   ]
  },
  {
   "cell_type": "code",
   "execution_count": 3,
   "metadata": {},
   "outputs": [
    {
     "name": "stderr",
     "output_type": "stream",
     "text": [
      "Created a chunk of size 56, which is longer than the specified 50\n",
      "Created a chunk of size 505, which is longer than the specified 50\n",
      "Created a chunk of size 371, which is longer than the specified 50\n",
      "Created a chunk of size 394, which is longer than the specified 50\n",
      "Created a chunk of size 297, which is longer than the specified 50\n",
      "Created a chunk of size 328, which is longer than the specified 50\n",
      "Created a chunk of size 299, which is longer than the specified 50\n"
     ]
    },
    {
     "name": "stderr",
     "output_type": "stream",
     "text": [
      "Created a chunk of size 360, which is longer than the specified 50\n",
      "Created a chunk of size 355, which is longer than the specified 50\n",
      "Created a chunk of size 291, which is longer than the specified 50\n"
     ]
    }
   ],
   "source": [
    "from langchain.text_splitter import CharacterTextSplitter\n",
    "\n",
    "text_splitter = CharacterTextSplitter (chunk_size=50,\n",
    "chunk_overlap=0)\n",
    "\n",
    "texts= text_splitter.split_documents(documents)"
   ]
  },
  {
   "cell_type": "code",
   "execution_count": 4,
   "metadata": {},
   "outputs": [
    {
     "name": "stderr",
     "output_type": "stream",
     "text": [
      "c:\\Users\\patil\\AppData\\Local\\Programs\\Python\\Python312\\Lib\\site-packages\\tqdm\\auto.py:21: TqdmWarning: IProgress not found. Please update jupyter and ipywidgets. See https://ipywidgets.readthedocs.io/en/stable/user_install.html\n",
      "  from .autonotebook import tqdm as notebook_tqdm\n"
     ]
    }
   ],
   "source": [
    "from langchain.embeddings.sentence_transformer import SentenceTransformerEmbeddings\n",
    "embeddings = SentenceTransformerEmbeddings(model_name=\"all-MiniLM-L6-v2\")"
   ]
  },
  {
   "cell_type": "code",
   "execution_count": 5,
   "metadata": {},
   "outputs": [
    {
     "data": {
      "text/plain": [
       "[Document(page_content='Title: Ramayana: The Epic Journey of Dharma and Devotion', metadata={'source': 'C:\\\\Users\\\\patil\\\\Downloads\\\\Ramayana The Epic Journey.txt'}),\n",
       " Document(page_content='In the vast tapestry of Indian mythology and literature, the Ramayana stands as one of the most revered and cherished epics. Composed by the sage Valmiki, the Ramayana narrates the divine journey of Lord Rama, the seventh avatar of Lord Vishnu, and his unwavering commitment to righteousness and truth. This timeless epic is not merely a story but a profound spiritual guide, offering profound insights into the principles of dharma (righteousness), devotion, and the eternal battle between good and evil.', metadata={'source': 'C:\\\\Users\\\\patil\\\\Downloads\\\\Ramayana The Epic Journey.txt'}),\n",
       " Document(page_content='The Ramayana begins with the birth of Lord Rama to King Dasharatha and Queen Kaushalya of Ayodhya. Rama, the epitome of virtue and nobility, is beloved by all who encounter him. His life unfolds with divine purpose, leading him to marry Sita, the daughter of King Janaka, in a grand ceremony that unites two noble souls destined to play pivotal roles in the cosmic drama.', metadata={'source': 'C:\\\\Users\\\\patil\\\\Downloads\\\\Ramayana The Epic Journey.txt'}),\n",
       " Document(page_content=\"However, the tranquility of Rama's life is shattered when his stepmother, Queen Kaikeyi, influenced by the machinations of her maid Manthara, demands that Rama be exiled to the forest for fourteen years and that her own son, Bharata, be crowned king instead. Despite the injustice he faces, Rama accepts his exile with grace and humility, embodying the principle of duty above personal desires.\", metadata={'source': 'C:\\\\Users\\\\patil\\\\Downloads\\\\Ramayana The Epic Journey.txt'}),\n",
       " Document(page_content='Accompanied by his devoted wife Sita and loyal brother Lakshmana, Rama embarks on a journey through the wilderness, encountering numerous challenges and adversities along the way. His unwavering commitment to dharma and his exemplary conduct inspire awe and reverence in all who witness his deeds.', metadata={'source': 'C:\\\\Users\\\\patil\\\\Downloads\\\\Ramayana The Epic Journey.txt'}),\n",
       " Document(page_content='The Ramayana is not merely a tale of heroic exploits but a profound exploration of the intricacies of human relationships and the nature of existence itself. The love between Rama and Sita serves as a beacon of devotion and fidelity, transcending the trials they endure and reaffirming the eternal bond between husband and wife.', metadata={'source': 'C:\\\\Users\\\\patil\\\\Downloads\\\\Ramayana The Epic Journey.txt'}),\n",
       " Document(page_content='Central to the narrative is the character of Ravana, the demon king of Lanka, whose lust for power and desire for Sita propel him into conflict with Rama. Despite his formidable strength and intellect, Ravana is ultimately undone by his arrogance and ignorance of the higher truths embodied by Rama.', metadata={'source': 'C:\\\\Users\\\\patil\\\\Downloads\\\\Ramayana The Epic Journey.txt'}),\n",
       " Document(page_content='The climax of the epic unfolds with the great battle between Rama and Ravana, a cosmic confrontation between the forces of good and evil. With the assistance of an army of noble monkeys led by the valiant Hanuman, Rama wages war against the demonic hordes of Lanka, culminating in a climactic showdown that showcases the triumph of righteousness over darkness.', metadata={'source': 'C:\\\\Users\\\\patil\\\\Downloads\\\\Ramayana The Epic Journey.txt'}),\n",
       " Document(page_content=\"The Ramayana concludes with Rama's triumphant return to Ayodhya, where he is joyously welcomed by his subjects and reunited with his beloved Sita. However, the purity of Sita's character is called into question by the doubts of some of Rama's subjects, leading to her voluntary exile to the forest where she gives birth to their twin sons, Lava and Kusha.\", metadata={'source': 'C:\\\\Users\\\\patil\\\\Downloads\\\\Ramayana The Epic Journey.txt'}),\n",
       " Document(page_content='Ultimately, the Ramayana is not merely a historical account but a timeless allegory that resonates with profound spiritual truths. It teaches us the importance of upholding dharma in the face of adversity, the power of unwavering devotion, and the eternal victory of righteousness over evil.', metadata={'source': 'C:\\\\Users\\\\patil\\\\Downloads\\\\Ramayana The Epic Journey.txt'}),\n",
       " Document(page_content='In the hearts of millions of devotees, the Ramayana remains a sacred scripture, inspiring them to lead lives of integrity, compassion, and devotion. Its teachings continue to illuminate the path of righteousness, guiding humanity towards the realization of the divine within and the ultimate triumph of good over evil.', metadata={'source': 'C:\\\\Users\\\\patil\\\\Downloads\\\\Ramayana The Epic Journey.txt'})]"
      ]
     },
     "execution_count": 5,
     "metadata": {},
     "output_type": "execute_result"
    }
   ],
   "source": [
    "texts"
   ]
  },
  {
   "cell_type": "code",
   "execution_count": 27,
   "metadata": {},
   "outputs": [],
   "source": [
    "from langchain.vectorstores import faiss\n",
    "db = faiss.FAISS.from_documents(texts, embeddings)"
   ]
  },
  {
   "cell_type": "code",
   "execution_count": 28,
   "metadata": {},
   "outputs": [],
   "source": [
    "question = \"Who is Rama?\""
   ]
  },
  {
   "cell_type": "code",
   "execution_count": 31,
   "metadata": {},
   "outputs": [],
   "source": [
    "retriever = db.similarity_search(query=question)"
   ]
  },
  {
   "cell_type": "code",
   "execution_count": 32,
   "metadata": {},
   "outputs": [
    {
     "data": {
      "text/plain": [
       "[Document(page_content='Accompanied by his devoted wife Sita and loyal brother Lakshmana, Rama embarks on a journey through the wilderness, encountering numerous challenges and adversities along the way. His unwavering commitment to dharma and his exemplary conduct inspire awe and reverence in all who witness his deeds.', metadata={'source': 'C:\\\\Users\\\\patil\\\\Downloads\\\\Ramayana The Epic Journey.txt'}),\n",
       " Document(page_content=\"However, the tranquility of Rama's life is shattered when his stepmother, Queen Kaikeyi, influenced by the machinations of her maid Manthara, demands that Rama be exiled to the forest for fourteen years and that her own son, Bharata, be crowned king instead. Despite the injustice he faces, Rama accepts his exile with grace and humility, embodying the principle of duty above personal desires.\", metadata={'source': 'C:\\\\Users\\\\patil\\\\Downloads\\\\Ramayana The Epic Journey.txt'}),\n",
       " Document(page_content='The Ramayana begins with the birth of Lord Rama to King Dasharatha and Queen Kaushalya of Ayodhya. Rama, the epitome of virtue and nobility, is beloved by all who encounter him. His life unfolds with divine purpose, leading him to marry Sita, the daughter of King Janaka, in a grand ceremony that unites two noble souls destined to play pivotal roles in the cosmic drama.', metadata={'source': 'C:\\\\Users\\\\patil\\\\Downloads\\\\Ramayana The Epic Journey.txt'}),\n",
       " Document(page_content='Central to the narrative is the character of Ravana, the demon king of Lanka, whose lust for power and desire for Sita propel him into conflict with Rama. Despite his formidable strength and intellect, Ravana is ultimately undone by his arrogance and ignorance of the higher truths embodied by Rama.', metadata={'source': 'C:\\\\Users\\\\patil\\\\Downloads\\\\Ramayana The Epic Journey.txt'})]"
      ]
     },
     "execution_count": 32,
     "metadata": {},
     "output_type": "execute_result"
    }
   ],
   "source": [
    "retriever"
   ]
  },
  {
   "cell_type": "code",
   "execution_count": null,
   "metadata": {},
   "outputs": [],
   "source": []
  }
 ],
 "metadata": {
  "kernelspec": {
   "display_name": "Python 3",
   "language": "python",
   "name": "python3"
  },
  "language_info": {
   "codemirror_mode": {
    "name": "ipython",
    "version": 3
   },
   "file_extension": ".py",
   "mimetype": "text/x-python",
   "name": "python",
   "nbconvert_exporter": "python",
   "pygments_lexer": "ipython3",
   "version": "3.12.2"
  }
 },
 "nbformat": 4,
 "nbformat_minor": 2
}
